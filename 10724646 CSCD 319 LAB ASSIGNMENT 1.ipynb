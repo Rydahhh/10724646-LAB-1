{
 "cells": [
  {
   "cell_type": "code",
   "execution_count": null,
   "metadata": {},
   "outputs": [],
   "source": [
    "#Question 1\n",
    "def sqrt_root():\n",
    "   for x in range(2, 49, 2):\n",
    "    \n",
    "    print(f'No:{x}  Square Root:{sqrt(x)}')\n",
    "\n",
    "\n",
    "\n",
    "sqrt_root()"
   ]
  },
  {
   "cell_type": "code",
   "execution_count": null,
   "metadata": {},
   "outputs": [],
   "source": [
    "#Question 2\n",
    "\n",
    "import random\n",
    "\n",
    "def random_numbers():\n",
    "  array= []\n",
    "\n",
    "  lower_no = int(input(\"Enter the lower boundary : \"))\n",
    "  upper_no = int(input(\"Enter the upper boundary : \"))\n",
    "  \n",
    "  if (upper_no > lower_no):\n",
    "    for i in range(10):\n",
    "      array.append(random.randint(lower_no, upper_no))\n",
    "  else: \n",
    "    print(\"Lower limit cannot be greater than upper limit\")\n",
    "\n",
    "    \n",
    "  return array\n",
    "\n",
    "new_array = random_numbers()\n",
    "new_array\n"
   ]
  },
  {
   "cell_type": "code",
   "execution_count": null,
   "metadata": {},
   "outputs": [],
   "source": [
    "#Question 3\n",
    "import numpy as np\n",
    "\n",
    "def add_mul(array):\n",
    "\n",
    "  add_array = np.sum(array)\n",
    "  print(f'Sum: {add_array}')\n",
    "\n",
    "  mul_array = n|p.prod(array)\n",
    "\n",
    "  print(f'Product: {mul_array}')\n",
    "   \n",
    "add_mul(new_array)\n"
   ]
  },
  {
   "cell_type": "code",
   "execution_count": null,
   "metadata": {},
   "outputs": [],
   "source": [
    "#Question 4\n",
    "def collatz(number):\n",
    "    if number % 2 == 0:\n",
    "        print(number // 2)\n",
    "        return number // 2\n",
    "\n",
    "    elif number % 2 == 1:\n",
    "        result = 3 * number + 1\n",
    "        print(result)\n",
    "        return result\n",
    "\n",
    "n = input(\"Type in a number\")\n",
    "while n != 1:\n",
    "    n = collatz(int(n))"
   ]
  },
  {
   "cell_type": "code",
   "execution_count": null,
   "metadata": {},
   "outputs": [],
   "source": []
  }
 ],
 "metadata": {
  "kernelspec": {
   "display_name": "Python 3",
   "language": "python",
   "name": "python3"
  },
  "language_info": {
   "codemirror_mode": {
    "name": "ipython",
    "version": 3
   },
   "file_extension": ".py",
   "mimetype": "text/x-python",
   "name": "python",
   "nbconvert_exporter": "python",
   "pygments_lexer": "ipython3",
   "version": "3.7.4"
  }
 },
 "nbformat": 4,
 "nbformat_minor": 2
}
